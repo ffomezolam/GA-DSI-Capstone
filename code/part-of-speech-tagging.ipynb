{
 "cells": [
  {
   "cell_type": "code",
   "execution_count": 4,
   "id": "8d89d9e8-87c9-4d79-b46f-8383f5bc5e55",
   "metadata": {},
   "outputs": [],
   "source": [
    "from textblob import TextBlob\n",
    "import re"
   ]
  },
  {
   "cell_type": "code",
   "execution_count": 5,
   "id": "d9dfbcfb-f3e4-405e-83ed-6f45adca2180",
   "metadata": {},
   "outputs": [
    {
     "data": {
      "text/plain": [
       "'From fairest creatures we desire increase,\\n  That thereby beauty’s rose might never die,\\n  But as the riper should by time decease,\\n  His tender heir might bear his memory:\\n  But thou, contracted to thine own bright eyes,\\n  Feed’st thy light’s flame with self-substantial fuel,\\n  Making a famine where abundance lies,\\n  Thyself thy foe, to thy sweet self too cruel:\\n  Thou that art now the world’s fresh ornament,\\n  And only herald to the gaudy spring,\\n  Within thine own bud buriest thy content,\\n  And tender churl mak’st waste in niggarding:\\n    Pity the world, or else this glutton be,\\n    To eat the world’s due, by the grave and thee.\\n\\nWhen forty winters shall besiege thy brow,\\n  And dig deep trenches in thy beauty’s field,\\n  Thy youth’s proud livery so gazed on now,\\n  Will be a tatter’d weed of small worth held:\\n  Then being asked, where all thy beauty lies,\\n  Where all the treasure of thy lusty days;\\n  To say, within thine own deep sunken eyes,\\n  Were an all-eating shame, and thriftless'"
      ]
     },
     "execution_count": 5,
     "metadata": {},
     "output_type": "execute_result"
    }
   ],
   "source": [
    "# get sample text (shakespeare's sonnets)\n",
    "with open('./shakespeare-sonnets.stripped.split.txt', 'r') as f:\n",
    "    text = f.read()\n",
    "text[:1000]"
   ]
  },
  {
   "cell_type": "code",
   "execution_count": 7,
   "id": "cf818e50-e02e-4522-9dad-545c78e8200d",
   "metadata": {},
   "outputs": [
    {
     "data": {
      "text/plain": [
       "'From fairest creatures we desire increase,\\n  That thereby beauty’s rose might never die,\\n  But as the riper should by time decease,\\n  His tender heir might bear his memory:\\n  But thou, contracted to thine own bright eyes,\\n  Feed’st thy light’s flame with self-substantial fuel,\\n  Making a famine where abundance lies,\\n  Thyself thy foe, to thy sweet self too cruel:\\n  Thou that art now the world’s fresh ornament,\\n  And only herald to the gaudy spring,\\n  Within thine own bud buriest thy content,\\n  And tender churl mak’st waste in niggarding:\\n    Pity the world, or else this glutton be,\\n    To eat the world’s due, by the grave and thee.'"
      ]
     },
     "execution_count": 7,
     "metadata": {},
     "output_type": "execute_result"
    }
   ],
   "source": [
    "# split into separate poems (separated by full blank line)\n",
    "RE_BLANKLINE = re.compile(r'\\n\\s*?\\n')\n",
    "\n",
    "poems = RE_BLANKLINE.split(text)\n",
    "poems[0]"
   ]
  },
  {
   "cell_type": "code",
   "execution_count": 12,
   "id": "a1adcfd4-9a48-4797-a279-26f7fbeeff4b",
   "metadata": {},
   "outputs": [
    {
     "data": {
      "text/plain": [
       "[('From', 'IN'),\n",
       " ('fairest', 'JJS'),\n",
       " ('creatures', 'NNS'),\n",
       " ('we', 'PRP'),\n",
       " ('desire', 'VBP'),\n",
       " ('increase', 'NN'),\n",
       " ('That', 'DT'),\n",
       " ('thereby', 'RB'),\n",
       " ('beauty', 'NN'),\n",
       " ('’', 'JJ'),\n",
       " ('s', 'NN'),\n",
       " ('rose', 'VBD'),\n",
       " ('might', 'MD'),\n",
       " ('never', 'RB'),\n",
       " ('die', 'VB'),\n",
       " ('But', 'CC'),\n",
       " ('as', 'IN'),\n",
       " ('the', 'DT'),\n",
       " ('riper', 'NN'),\n",
       " ('should', 'MD'),\n",
       " ('by', 'IN'),\n",
       " ('time', 'NN'),\n",
       " ('decease', 'NN'),\n",
       " ('His', 'PRP$'),\n",
       " ('tender', 'NN'),\n",
       " ('heir', 'NN'),\n",
       " ('might', 'MD'),\n",
       " ('bear', 'VB'),\n",
       " ('his', 'PRP$'),\n",
       " ('memory', 'NN'),\n",
       " ('But', 'CC'),\n",
       " ('thou', 'NNS'),\n",
       " ('contracted', 'VBD'),\n",
       " ('to', 'TO'),\n",
       " ('thine', 'VB'),\n",
       " ('own', 'JJ'),\n",
       " ('bright', 'JJ'),\n",
       " ('eyes', 'NNS'),\n",
       " ('Feed', 'NNP'),\n",
       " ('’', 'NNP'),\n",
       " ('st', 'VBD'),\n",
       " ('thy', 'JJ'),\n",
       " ('light', 'JJ'),\n",
       " ('’', 'NN'),\n",
       " ('s', 'NN'),\n",
       " ('flame', 'NN'),\n",
       " ('with', 'IN'),\n",
       " ('self-substantial', 'JJ'),\n",
       " ('fuel', 'NN'),\n",
       " ('Making', 'VBG'),\n",
       " ('a', 'DT'),\n",
       " ('famine', 'NN'),\n",
       " ('where', 'WRB'),\n",
       " ('abundance', 'NN'),\n",
       " ('lies', 'VBZ'),\n",
       " ('Thyself', 'PRP'),\n",
       " ('thy', 'JJ'),\n",
       " ('foe', 'NN'),\n",
       " ('to', 'TO'),\n",
       " ('thy', 'VB'),\n",
       " ('sweet', 'JJ'),\n",
       " ('self', 'NNS'),\n",
       " ('too', 'RB'),\n",
       " ('cruel', 'JJ'),\n",
       " ('Thou', 'NN'),\n",
       " ('that', 'IN'),\n",
       " ('art', 'NN'),\n",
       " ('now', 'RB'),\n",
       " ('the', 'DT'),\n",
       " ('world', 'NN'),\n",
       " ('’', 'NNP'),\n",
       " ('s', 'NN'),\n",
       " ('fresh', 'JJ'),\n",
       " ('ornament', 'NN'),\n",
       " ('And', 'CC'),\n",
       " ('only', 'RB'),\n",
       " ('herald', 'NN'),\n",
       " ('to', 'TO'),\n",
       " ('the', 'DT'),\n",
       " ('gaudy', 'NN'),\n",
       " ('spring', 'NN'),\n",
       " ('Within', 'NNP'),\n",
       " ('thine', 'VBP'),\n",
       " ('own', 'JJ'),\n",
       " ('bud', 'NN'),\n",
       " ('buriest', 'JJS'),\n",
       " ('thy', 'JJ'),\n",
       " ('content', 'NN'),\n",
       " ('And', 'CC'),\n",
       " ('tender', 'NN'),\n",
       " ('churl', 'NN'),\n",
       " ('mak', 'NN'),\n",
       " ('’', 'NNP'),\n",
       " ('st', 'NN'),\n",
       " ('waste', 'NN'),\n",
       " ('in', 'IN'),\n",
       " ('niggarding', 'NN'),\n",
       " ('Pity', 'NN'),\n",
       " ('the', 'DT'),\n",
       " ('world', 'NN'),\n",
       " ('or', 'CC'),\n",
       " ('else', 'RB'),\n",
       " ('this', 'DT'),\n",
       " ('glutton', 'NN'),\n",
       " ('be', 'VB'),\n",
       " ('To', 'TO'),\n",
       " ('eat', 'VB'),\n",
       " ('the', 'DT'),\n",
       " ('world', 'NN'),\n",
       " ('’', 'NN'),\n",
       " ('s', 'NN'),\n",
       " ('due', 'JJ'),\n",
       " ('by', 'IN'),\n",
       " ('the', 'DT'),\n",
       " ('grave', 'NN'),\n",
       " ('and', 'CC'),\n",
       " ('thee', 'NN')]"
      ]
     },
     "execution_count": 12,
     "metadata": {},
     "output_type": "execute_result"
    }
   ],
   "source": [
    "poem = TextBlob(poems[0])\n",
    "poem.tags"
   ]
  },
  {
   "cell_type": "code",
   "execution_count": null,
   "id": "ce240ce8-a95b-4805-b289-de343baa0b9b",
   "metadata": {},
   "outputs": [],
   "source": []
  }
 ],
 "metadata": {
  "kernelspec": {
   "display_name": "Python 3 (ipykernel)",
   "language": "python",
   "name": "python3"
  },
  "language_info": {
   "codemirror_mode": {
    "name": "ipython",
    "version": 3
   },
   "file_extension": ".py",
   "mimetype": "text/x-python",
   "name": "python",
   "nbconvert_exporter": "python",
   "pygments_lexer": "ipython3",
   "version": "3.10.5"
  }
 },
 "nbformat": 4,
 "nbformat_minor": 5
}
