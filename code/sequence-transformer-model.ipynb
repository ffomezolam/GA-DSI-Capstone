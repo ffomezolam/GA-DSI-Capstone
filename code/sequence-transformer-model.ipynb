{
 "cells": [
  {
   "cell_type": "code",
   "execution_count": null,
   "id": "e01b59de-23c3-423e-b806-52188818485b",
   "metadata": {},
   "outputs": [],
   "source": [
    "from transformers import DistilBertTokenizer\n",
    "from transformers import TFDistilBertForMaskedLM\n",
    "\n",
    "import os\n",
    "import re"
   ]
  },
  {
   "cell_type": "code",
   "execution_count": null,
   "id": "a966baa1-bc08-4262-a04c-0765cf5d938b",
   "metadata": {},
   "outputs": [],
   "source": [
    "MODEL_DIR = '../models/'\n",
    "MODEL_TYPE = 'distilbert'\n",
    "MODEL_NAME = 'seq2seq'\n",
    "\n",
    "DATA_DIR = '../data/'"
   ]
  },
  {
   "cell_type": "code",
   "execution_count": null,
   "id": "9ba7fe6f-cd97-45e7-9e06-94f84933cd08",
   "metadata": {},
   "outputs": [],
   "source": [
    "# load data\n",
    "\n",
    "with open('../data/shakespeare-sonnets.clean.txt', 'r') as f:\n",
    "    lines = [line.strip() for line in f.readlines() if line.strip()]\n",
    "    \n",
    "print(lines)\n",
    "\n",
    "inputs = to"
   ]
  }
 ],
 "metadata": {
  "kernelspec": {
   "display_name": "Python 3 (ipykernel)",
   "language": "python",
   "name": "python3"
  },
  "language_info": {
   "codemirror_mode": {
    "name": "ipython",
    "version": 3
   },
   "file_extension": ".py",
   "mimetype": "text/x-python",
   "name": "python",
   "nbconvert_exporter": "python",
   "pygments_lexer": "ipython3",
   "version": "3.10.4"
  }
 },
 "nbformat": 4,
 "nbformat_minor": 5
}
