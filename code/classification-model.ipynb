{
 "cells": [
  {
   "cell_type": "markdown",
   "id": "ec0a3b80-58dc-45dc-9cec-909d09eb0a8e",
   "metadata": {},
   "source": [
    "# GA Capstone\n",
    "## Classification Modeling\n",
    "\n",
    "The goal here is to create a binary classification model that will classify text as being Shakespearian or not."
   ]
  },
  {
   "cell_type": "markdown",
   "id": "18cde711-25f0-452d-99ce-43c7c0532dc1",
   "metadata": {},
   "source": [
    "Much of the below is adapted from the [Hugging Face Text Classification Tutorial](https://huggingface.co/docs/transformers/tasks/sequence_classification) and the notebook linked therein."
   ]
  },
  {
   "cell_type": "markdown",
   "id": "bbcca06d-df6f-4773-a33c-042a392b3fd8",
   "metadata": {},
   "source": [
    "### Imports and Preliminaries"
   ]
  },
  {
   "cell_type": "code",
   "execution_count": 2,
   "id": "bb5a0184-f650-42cd-a299-38973b083610",
   "metadata": {},
   "outputs": [],
   "source": [
    "# IMPORTS\n",
    "# Datasets for dataset formatting\n",
    "from datasets import Dataset, DatasetDict\n",
    "\n",
    "# tokenizer and collator\n",
    "from transformers import AutoTokenizer, DataCollatorWithPadding\n",
    "\n",
    "# model and optimizer\n",
    "from transformers import TFAutoModelForSequenceClassification, create_optimizer\n",
    "\n",
    "# support\n",
    "import numpy as np\n",
    "import os\n",
    "import re\n",
    "import random\n",
    "import json\n",
    "\n",
    "from utilities.utilities import load_config, get_dataset_from_config\n",
    "from utilities.utilities import train_test_val_split, split_text_and_labels"
   ]
  },
  {
   "cell_type": "code",
   "execution_count": 3,
   "id": "e4bf935c-63d8-4ec5-9d45-91c87c625d3c",
   "metadata": {},
   "outputs": [
    {
     "data": {
      "text/plain": [
       "{'MODEL_DIR': '../models/',\n",
       " 'DATA_DIR': '../data/',\n",
       " 'CAUSAL_N_EPOCHS': 4,\n",
       " 'CLASS_N_EPOCHS': 8,\n",
       " 'BATCH_SIZE': 16,\n",
       " 'CAUSAL_MODEL': 'distilgpt2',\n",
       " 'CLASS_MODEL': 'distilbert-base-uncased',\n",
       " 'MODEL_NAME': 'shakespeare',\n",
       " 'DATA_SHAKESPEARE': ['shakespeare-sonnets.clean.txt', 'shakespeareplays.txt'],\n",
       " 'DATA_OTHER': ['belloc_hilaire-sonnets_and_verse.clean.txt',\n",
       "  'blake_william-poems.clean.txt',\n",
       "  'browning_elizabeth-sonnets_from_the_portuguese.clean.txt',\n",
       "  'daniel_samuel_and_constable_henry-elizabethan_sonnet_cycles.clean.txt',\n",
       "  'donne_john-poetry_vol_1.clean.txt',\n",
       "  'drayton_michael_et_al-elizabethan_sonnet_cycles.clean.txt',\n",
       "  'farjeon_eleanor-sonnets_and_poems.clean.txt',\n",
       "  'keats_john-poems_1820.clean.txt',\n",
       "  'lodge_thomas_and_fletcher_giles-elizabethan_sonnet_cycles.clean.txt',\n",
       "  'lovell_robert_and_southey_robert-poems.clean.txt',\n",
       "  'milton_john-poetical_works.clean.txt',\n",
       "  'seward_anna-sonnets-and-odes.clean.txt',\n",
       "  'shelley_percy-complete_poetic_works.clean.txt',\n",
       "  'wilde_oscar-poems.clean.txt',\n",
       "  'wilde_oscar-selected_prose.txt',\n",
       "  'gpt2-text.txt'],\n",
       " 'N_SAMPLES': 0}"
      ]
     },
     "execution_count": 3,
     "metadata": {},
     "output_type": "execute_result"
    }
   ],
   "source": [
    "# load config from json\n",
    "CONFIG_FILE = 'config.json'\n",
    "\n",
    "config_vars = load_config(CONFIG_FILE)\n",
    "config_vars"
   ]
  },
  {
   "cell_type": "code",
   "execution_count": 4,
   "id": "51254765-56de-4d56-a708-89874691e0f3",
   "metadata": {},
   "outputs": [],
   "source": [
    "# pretrained model designator\n",
    "MODEL_TYPE = config_vars['CLASS_MODEL'] if 'CLASS_MODEL' in config_vars else 'distilbert-base-uncased'\n",
    "\n",
    "# model batch size\n",
    "BATCH_SIZE = config_vars['BATCH_SIZE'] if 'BATCH_SIZE' in config_vars else 16\n",
    "\n",
    "# model num epochs\n",
    "N_EPOCHS = config_vars['CLASS_N_EPOCHS'] if 'CLASS_N_EPOCHS' in config_vars else 8\n",
    "\n",
    "# whether to downsample\n",
    "SAMPLE = config_vars['N_SAMPLES'] if 'N_SAMPLES' in config_vars else 1"
   ]
  },
  {
   "cell_type": "code",
   "execution_count": 5,
   "id": "c9c3d135-14a9-4d16-a834-e4d1808e3e68",
   "metadata": {},
   "outputs": [],
   "source": [
    "# directories, etc.\n",
    "MODEL_DIR = config_vars['MODEL_DIR'] if 'MODEL_DIR' in config_vars else '../models/'\n",
    "MODEL_NAME = config_vars['MODEL_NAME'] if 'MODEL_NAME' in config_vars else 'shakespeare'\n",
    "MODEL_FULL_PATH = os.path.join(MODEL_DIR, f'{MODEL_NAME}.{MODEL_TYPE}.{N_EPOCHS}')\n",
    "\n",
    "DATA_DIR = config_vars['DATA_DIR'] if 'DATA_DIR' in config_vars else '../data/'"
   ]
  },
  {
   "cell_type": "markdown",
   "id": "a9e47bfd-9402-4cea-a98e-19a48ddfc1f9",
   "metadata": {},
   "source": [
    "### Data Loading and Preparation"
   ]
  },
  {
   "cell_type": "code",
   "execution_count": 6,
   "id": "e609c19f-90f0-4cda-9fea-bdd9b481768f",
   "metadata": {},
   "outputs": [
    {
     "data": {
      "text/plain": [
       "(36809,\n",
       " [('Lift up your hearts in Gumber, laugh the Weald And you my mother the Valley of Arun sing.',\n",
       "   0),\n",
       "  ('Here am I homeward from my wandering Here am I homeward and my heart is healed.',\n",
       "   0)],\n",
       " 76578,\n",
       " [('From fairest creatures we desire increase, That thereby beauty’s rose might never die, But as the riper should by time decease, His tender heir might bear his memory:',\n",
       "   1),\n",
       "  ('But thou, contracted to thine own bright eyes, Feed’st thy light’s flame with self-substantial fuel, Making a famine where abundance lies, Thyself thy foe, to thy sweet self too cruel:',\n",
       "   1)])"
      ]
     },
     "execution_count": 6,
     "metadata": {},
     "output_type": "execute_result"
    }
   ],
   "source": [
    "# load data and split into sentences\n",
    "data = get_dataset_from_config(config_vars, limit=SAMPLE)\n",
    "len(data[0]), data[0][:2], len(data[1]), data[1][:2]"
   ]
  },
  {
   "cell_type": "code",
   "execution_count": 7,
   "id": "030a4574-c947-4adb-a838-5e870a50a593",
   "metadata": {},
   "outputs": [
    {
     "data": {
      "text/plain": [
       "([('I would they could.', 1), ('Farewell therefore, Hero.', 1)],\n",
       " [('I will bestow a breakfast to make you friends, and we’ll be all three sworn brothers to France.',\n",
       "   1),\n",
       "  ('Since, Jupiter, our son is good, Take off his miseries.', 1)],\n",
       " [('Some six months since, my lord.', 1), ('Brought you Caesar home?', 1)])"
      ]
     },
     "execution_count": 7,
     "metadata": {},
     "output_type": "execute_result"
    }
   ],
   "source": [
    "# create train-test-val-split\n",
    "# adding a validation split for the NN model\n",
    "data_ttvs = train_test_val_split(data)\n",
    "data_ttvs['train'][:2], data_ttvs['test'][:2], data_ttvs['val'][:2]"
   ]
  },
  {
   "cell_type": "code",
   "execution_count": 8,
   "id": "503c0ea5-f048-4fe9-86bb-49c23b38f8b3",
   "metadata": {},
   "outputs": [
    {
     "data": {
      "text/plain": [
       "DatasetDict({\n",
       "    train: Dataset({\n",
       "        features: ['text', 'labels'],\n",
       "        num_rows: 100917\n",
       "    })\n",
       "    test: Dataset({\n",
       "        features: ['text', 'labels'],\n",
       "        num_rows: 11337\n",
       "    })\n",
       "    val: Dataset({\n",
       "        features: ['text', 'labels'],\n",
       "        num_rows: 1133\n",
       "    })\n",
       "})"
      ]
     },
     "execution_count": 8,
     "metadata": {},
     "output_type": "execute_result"
    }
   ],
   "source": [
    "# format into DatasetDict format\n",
    "train_data = Dataset.from_dict(split_text_and_labels(data_ttvs['train']))\n",
    "test_data = Dataset.from_dict(split_text_and_labels(data_ttvs['test']))\n",
    "val_data = Dataset.from_dict(split_text_and_labels(data_ttvs['val']))\n",
    "dataset = DatasetDict({'train': train_data, 'test': test_data, 'val': val_data})\n",
    "dataset"
   ]
  },
  {
   "cell_type": "markdown",
   "id": "d9245e6c-477a-4bb5-a10b-e3b4b05283f8",
   "metadata": {},
   "source": [
    "### Tokenization and Prepping Collator"
   ]
  },
  {
   "cell_type": "code",
   "execution_count": 9,
   "id": "472fadec-a28b-4f17-b665-1e07ec31b935",
   "metadata": {},
   "outputs": [],
   "source": [
    "tokenizer = AutoTokenizer.from_pretrained(MODEL_TYPE)\n",
    "\n",
    "def tokenizer_func(text):\n",
    "    return tokenizer(text['text'])"
   ]
  },
  {
   "cell_type": "code",
   "execution_count": 10,
   "id": "d23898f7-0c08-4c8d-b5ff-80c4c9222427",
   "metadata": {},
   "outputs": [
    {
     "data": {
      "application/vnd.jupyter.widget-view+json": {
       "model_id": "75a1bc0524964f9ea4041218f6304044",
       "version_major": 2,
       "version_minor": 0
      },
      "text/plain": [
       "  0%|          | 0/101 [00:00<?, ?ba/s]"
      ]
     },
     "metadata": {},
     "output_type": "display_data"
    },
    {
     "data": {
      "application/vnd.jupyter.widget-view+json": {
       "model_id": "b92ff97a584b456b9b9a1793e88b0f23",
       "version_major": 2,
       "version_minor": 0
      },
      "text/plain": [
       "  0%|          | 0/12 [00:00<?, ?ba/s]"
      ]
     },
     "metadata": {},
     "output_type": "display_data"
    },
    {
     "data": {
      "application/vnd.jupyter.widget-view+json": {
       "model_id": "bb54e8a64b0948b2b69cd2602a5ffb99",
       "version_major": 2,
       "version_minor": 0
      },
      "text/plain": [
       "  0%|          | 0/2 [00:00<?, ?ba/s]"
      ]
     },
     "metadata": {},
     "output_type": "display_data"
    }
   ],
   "source": [
    "tokenized_data = dataset.map(tokenizer_func, batched=True)"
   ]
  },
  {
   "cell_type": "code",
   "execution_count": 11,
   "id": "275aaddc-47af-436d-b60c-0e17d3176bc3",
   "metadata": {},
   "outputs": [],
   "source": [
    "collator = DataCollatorWithPadding(tokenizer=tokenizer, return_tensors='tf')"
   ]
  },
  {
   "cell_type": "markdown",
   "id": "ae171d29-8444-4b3f-9285-b31debe2ce98",
   "metadata": {},
   "source": [
    "### Modeling"
   ]
  },
  {
   "cell_type": "code",
   "execution_count": 12,
   "id": "02a48aeb-5be3-4b5d-94f4-6dafac68ce7c",
   "metadata": {},
   "outputs": [
    {
     "name": "stderr",
     "output_type": "stream",
     "text": [
      "Some layers from the model checkpoint at distilbert-base-uncased were not used when initializing TFDistilBertForSequenceClassification: ['activation_13', 'vocab_transform', 'vocab_layer_norm', 'vocab_projector']\n",
      "- This IS expected if you are initializing TFDistilBertForSequenceClassification from the checkpoint of a model trained on another task or with another architecture (e.g. initializing a BertForSequenceClassification model from a BertForPreTraining model).\n",
      "- This IS NOT expected if you are initializing TFDistilBertForSequenceClassification from the checkpoint of a model that you expect to be exactly identical (initializing a BertForSequenceClassification model from a BertForSequenceClassification model).\n",
      "Some layers of TFDistilBertForSequenceClassification were not initialized from the model checkpoint at distilbert-base-uncased and are newly initialized: ['dropout_19', 'classifier', 'pre_classifier']\n",
      "You should probably TRAIN this model on a down-stream task to be able to use it for predictions and inference.\n"
     ]
    }
   ],
   "source": [
    "# instantiate model\n",
    "if os.path.exists(MODEL_FULL_PATH):\n",
    "    model = TFAutoModelForSequenceClassification.from_pretrained(MODEL_FULL_PATH)\n",
    "else:\n",
    "    model = TFAutoModelForSequenceClassification.from_pretrained(MODEL_TYPE)"
   ]
  },
  {
   "cell_type": "code",
   "execution_count": 13,
   "id": "29d8c4a8-177c-4d5c-a9a4-783ec5c1a22d",
   "metadata": {},
   "outputs": [
    {
     "name": "stderr",
     "output_type": "stream",
     "text": [
      "You're using a DistilBertTokenizerFast tokenizer. Please note that with a fast tokenizer, using the `__call__` method is faster than using a method to encode the text followed by a call to the `pad` method to get a padded encoding.\n"
     ]
    }
   ],
   "source": [
    "# prep train and test sets for model\n",
    "tf_train_set = model.prepare_tf_dataset(\n",
    "    tokenized_data['train'],\n",
    "    shuffle=True,\n",
    "    batch_size=BATCH_SIZE,\n",
    "    collate_fn=collator\n",
    ")\n",
    "\n",
    "tf_test_set = model.prepare_tf_dataset(\n",
    "    tokenized_data['test'],\n",
    "    shuffle=False,\n",
    "    batch_size=BATCH_SIZE,\n",
    "    collate_fn=collator\n",
    ")\n",
    "\n",
    "tf_val_set = model.prepare_tf_dataset(\n",
    "    tokenized_data['val'],\n",
    "    shuffle=False,\n",
    "    batch_size=BATCH_SIZE,\n",
    "    collate_fn=collator\n",
    ")"
   ]
  },
  {
   "cell_type": "code",
   "execution_count": 14,
   "id": "e0dfaccd-45fb-4b3c-b78f-821398a7862e",
   "metadata": {},
   "outputs": [],
   "source": [
    "# set up optimizer\n",
    "batches_per_epoch = len(tokenized_data['train']) // BATCH_SIZE\n",
    "total_train_steps = int(batches_per_epoch * N_EPOCHS)\n",
    "optimizer, schedule = create_optimizer(init_lr=2e-5, num_warmup_steps=0, num_train_steps=total_train_steps)"
   ]
  },
  {
   "cell_type": "code",
   "execution_count": null,
   "id": "28d60b78-d9ed-4375-840e-c7a113869257",
   "metadata": {},
   "outputs": [
    {
     "name": "stderr",
     "output_type": "stream",
     "text": [
      "No loss specified in compile() - the model's internal loss computation will be used as the loss. Don't panic - this is a common way to train TensorFlow models in Transformers! To disable this behaviour please pass a loss argument, or explicitly pass `loss=None` if you do not want your model to compute a loss.\n"
     ]
    },
    {
     "name": "stdout",
     "output_type": "stream",
     "text": [
      "Epoch 1/8\n",
      "6307/6307 [==============================] - 6857s 1s/step - loss: 0.2513 - val_loss: 0.2419\n",
      "Epoch 2/8\n",
      "2570/6307 [===========>..................] - ETA: 1:11:00 - loss: 0.1507"
     ]
    }
   ],
   "source": [
    "# compile and fit model\n",
    "if not os.path.exists(MODEL_FULL_PATH):\n",
    "    model.compile(optimizer=optimizer)\n",
    "    model.fit(tf_train_set, validation_data=tf_val_set, epochs = N_EPOCHS)\n",
    "    os.makedirs(MODEL_FULL_PATH)\n",
    "    model.save_pretrained(MODEL_FULL_PATH)"
   ]
  },
  {
   "cell_type": "markdown",
   "id": "bb56b0d1-9f38-4243-a7ba-d46418973264",
   "metadata": {},
   "source": [
    "### Test"
   ]
  },
  {
   "cell_type": "code",
   "execution_count": null,
   "id": "dc8a5a0e-aca1-4845-b18a-5996f7f45235",
   "metadata": {},
   "outputs": [],
   "source": [
    "def get_class_from_output(output):\n",
    "    return np.argmax(output.logits, axis=1)\n",
    "\n",
    "def get_probs_from_output(output, c=1):\n",
    "    logits = output.logits\n",
    "    return (np.exp(logits) / (1 + np.exp(logits)))[:,c]\n",
    "\n",
    "NUM_TESTS = 10\n",
    "\n",
    "test_text = test_data['text'][:NUM_TESTS]\n",
    "test_class = test_data['labels'][:NUM_TESTS]\n",
    "\n",
    "tests_tokened = tokenizer(test_text, return_tensors='tf', padding=True)\n",
    "outputs = model(tests_tokened)\n",
    "pred_class = get_class_from_output(outputs)\n",
    "pred_prob = get_probs_from_output(outputs)\n",
    "\n",
    "list(zip(test_text, test_class, pred_class, pred_prob))"
   ]
  },
  {
   "cell_type": "markdown",
   "id": "eda6e2a5-2dba-4199-a865-e13db996c905",
   "metadata": {},
   "source": [
    "### Conclusion\n",
    "\n",
    "Classification works pretty well! Woohoo!"
   ]
  }
 ],
 "metadata": {
  "kernelspec": {
   "display_name": "Python 3 (ipykernel)",
   "language": "python",
   "name": "python3"
  },
  "language_info": {
   "codemirror_mode": {
    "name": "ipython",
    "version": 3
   },
   "file_extension": ".py",
   "mimetype": "text/x-python",
   "name": "python",
   "nbconvert_exporter": "python",
   "pygments_lexer": "ipython3",
   "version": "3.10.4"
  }
 },
 "nbformat": 4,
 "nbformat_minor": 5
}
